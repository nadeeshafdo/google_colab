{
  "nbformat": 4,
  "nbformat_minor": 0,
  "metadata": {
    "colab": {
      "provenance": [],
      "authorship_tag": "ABX9TyNVsO+TS+oFs/eZSFzBP/Xw",
      "include_colab_link": true
    },
    "kernelspec": {
      "name": "python3",
      "display_name": "Python 3"
    },
    "language_info": {
      "name": "python"
    }
  },
  "cells": [
    {
      "cell_type": "markdown",
      "metadata": {
        "id": "view-in-github",
        "colab_type": "text"
      },
      "source": [
        "<a href=\"https://colab.research.google.com/github/nadeeshafdo/google_colab/blob/main/Notebook_1.ipynb\" target=\"_parent\"><img src=\"https://colab.research.google.com/assets/colab-badge.svg\" alt=\"Open In Colab\"/></a>"
      ]
    },
    {
      "cell_type": "code",
      "source": [
        "# Import necessary libraries (Reused from Code Reuse Session 1)\n",
        "import pandas as pd\n",
        "import numpy as np\n",
        "import matplotlib.pyplot as plt\n",
        "import seaborn as sns"
      ],
      "metadata": {
        "id": "qR_tZ0aYxsR4"
      },
      "execution_count": 7,
      "outputs": []
    },
    {
      "cell_type": "code",
      "source": [
        "# Text Cell: Load dataset using code block from Code Reuse Session 1\n",
        "# Loading the dataset from the provided CSV file path\n",
        "df = pd.read_csv('/content/5DATA002W.2 Coursework Dataset(25012025v6.0).csv')"
      ],
      "metadata": {
        "id": "kNwuFBK2x2Ej"
      },
      "execution_count": 8,
      "outputs": []
    },
    {
      "cell_type": "code",
      "source": [
        "# Text Cell: Initial data exploration from Code Reuse Session 1\n",
        "# Display first few rows to understand the data structure\n",
        "print(\"Initial Dataset Preview:\")\n",
        "print(df.head())\n",
        "\n",
        "# Check for missing values in each column\n",
        "print(\"\\nMissing Values:\")\n",
        "print(df.isnull().sum())\n",
        "\n",
        "# Display data types of each column\n",
        "print(\"\\nData Types:\")\n",
        "print(df.dtypes)"
      ],
      "metadata": {
        "colab": {
          "base_uri": "https://localhost:8080/"
        },
        "id": "fJrXInw4x40c",
        "outputId": "c9a4a05e-0b5d-4110-f8e4-74761ce2bba4"
      },
      "execution_count": 9,
      "outputs": [
        {
          "output_type": "stream",
          "name": "stdout",
          "text": [
            "Initial Dataset Preview:\n",
            "  Patient_ID  Month_of_Birth   Age     Sex   Occupation T_Stage N_Stage  \\\n",
            "0      A0012              12  68.0  Female     Teaching      T1      N1   \n",
            "1      A0013              12  50.0  Female      Medical      T2      N2   \n",
            "2      A0014              11  58.0  Female  Engineering      T3      N3   \n",
            "3      A0015               3  58.0  Female   Technology      T1      N1   \n",
            "4      A0016               1  47.0  Female   Multimedia      T2      N1   \n",
            "\n",
            "  6th_Stage             Differentiated  Grade   A_Stage  Tumor_Size  \\\n",
            "0       IIA      Poorly differentiated      3  Regional         4.0   \n",
            "1      IIIA  Moderately differentiated      2  Regional        35.0   \n",
            "2      IIIC  Moderately differentiated      2  Regional        63.0   \n",
            "3       IIA      Poorly differentiated      3  Regional        18.0   \n",
            "4       IIB      Poorly differentiated      3  Regional        41.0   \n",
            "\n",
            "  Estrogen_Status Progesterone_Status  Regional_Node_Examined  \\\n",
            "0        Positive            Positive                    24.0   \n",
            "1        Positive            Positive                    14.0   \n",
            "2        Positive            Positive                    14.0   \n",
            "3        Positive            Positive                     2.0   \n",
            "4        Positive            Positive                     3.0   \n",
            "\n",
            "   Reginol_Node_Positive  Survival_Months Mortality_Status  \n",
            "0                      1               60            Alive  \n",
            "1                      5               62            Alive  \n",
            "2                      7               75            Alive  \n",
            "3                      1               84            Alive  \n",
            "4                      1               50            Alive  \n",
            "\n",
            "Missing Values:\n",
            "Patient_ID                   0\n",
            "Month_of_Birth               0\n",
            "Age                          9\n",
            "Sex                          4\n",
            "Occupation                3981\n",
            "T_Stage                      0\n",
            "N_Stage                      0\n",
            "6th_Stage                    0\n",
            "Differentiated               0\n",
            "Grade                        0\n",
            "A_Stage                      0\n",
            "Tumor_Size                   3\n",
            "Estrogen_Status              0\n",
            "Progesterone_Status          0\n",
            "Regional_Node_Examined       1\n",
            "Reginol_Node_Positive        0\n",
            "Survival_Months              0\n",
            "Mortality_Status             0\n",
            "dtype: int64\n",
            "\n",
            "Data Types:\n",
            "Patient_ID                 object\n",
            "Month_of_Birth              int64\n",
            "Age                       float64\n",
            "Sex                        object\n",
            "Occupation                 object\n",
            "T_Stage                    object\n",
            "N_Stage                    object\n",
            "6th_Stage                  object\n",
            "Differentiated             object\n",
            "Grade                       int64\n",
            "A_Stage                    object\n",
            "Tumor_Size                float64\n",
            "Estrogen_Status            object\n",
            "Progesterone_Status        object\n",
            "Regional_Node_Examined    float64\n",
            "Reginol_Node_Positive       int64\n",
            "Survival_Months             int64\n",
            "Mortality_Status           object\n",
            "dtype: object\n"
          ]
        }
      ]
    },
    {
      "cell_type": "code",
      "source": [
        "# Text Cell: Descriptive stats from Code Reuse Session 1\n",
        "# Generate basic descriptive statistics for numerical columns\n",
        "print(\"\\nDescriptive Statistics:\")\n",
        "print(df.describe())"
      ],
      "metadata": {
        "colab": {
          "base_uri": "https://localhost:8080/"
        },
        "id": "hKxAi0Qfx9xx",
        "outputId": "bb92747e-1030-4eff-8411-d45513856bae"
      },
      "execution_count": 10,
      "outputs": [
        {
          "output_type": "stream",
          "name": "stdout",
          "text": [
            "\n",
            "Descriptive Statistics:\n",
            "       Month_of_Birth          Age        Grade   Tumor_Size  \\\n",
            "count     4024.000000  4015.000000  4024.000000  4021.000000   \n",
            "mean         6.481362    54.107098     2.150596    30.419299   \n",
            "std          3.475442    11.715528     0.638234    21.161080   \n",
            "min          1.000000   -50.000000     1.000000   -75.000000   \n",
            "25%          3.000000    47.000000     2.000000    16.000000   \n",
            "50%          6.000000    54.000000     2.000000    25.000000   \n",
            "75%         10.000000    61.000000     3.000000    38.000000   \n",
            "max         12.000000   502.000000     4.000000   140.000000   \n",
            "\n",
            "       Regional_Node_Examined  Reginol_Node_Positive  Survival_Months  \n",
            "count             4023.000000            4024.000000      4024.000000  \n",
            "mean                14.373602               4.158052        71.472167  \n",
            "std                  8.129293               5.109331        25.361855  \n",
            "min                  1.000000               1.000000         1.000000  \n",
            "25%                  9.000000               1.000000        56.000000  \n",
            "50%                 14.000000               2.000000        73.000000  \n",
            "75%                 19.000000               5.000000        90.000000  \n",
            "max                 61.000000              46.000000       760.000000  \n"
          ]
        }
      ]
    },
    {
      "cell_type": "code",
      "source": [
        "# Text Cell: Variable retention logic adapted from Code Reuse Session 1\n",
        "# Dropping irrelevant columns for classification and regression tasks\n",
        "columns_to_drop = ['Patient_ID', 'Month_of_Birth', 'Occupation']  # Identifiers and non-clinical data\n",
        "df_cleaned = df.drop(columns=columns_to_drop)\n",
        "\n",
        "# Justification: Patient_ID is a unique identifier, Month_of_Birth and Occupation are not clinically relevant to mortality or survival prediction"
      ],
      "metadata": {
        "id": "W9Yn8nYSyCPG"
      },
      "execution_count": 11,
      "outputs": []
    },
    {
      "cell_type": "code",
      "source": [
        "# Text Cell: Fixing categorical variables from Code Reuse Session 1\n",
        "# Convert categorical variables to category type for efficient processing\n",
        "categorical_cols = ['Sex', 'T_Stage', 'N_Stage', '6th_Stage', 'Differentiated',\n",
        "                   'Grade', 'A_Stage', 'Estrogen_Status', 'Progesterone_Status', 'Mortality_Status']\n",
        "for col in categorical_cols:\n",
        "    df_cleaned[col] = df_cleaned[col].astype('category')"
      ],
      "metadata": {
        "id": "4suzFPH8yK0N"
      },
      "execution_count": 12,
      "outputs": []
    },
    {
      "cell_type": "code",
      "source": [
        "# Text Cell: Check for inconsistencies using code from Code Reuse Session 1\n",
        "# Verify unique values in key categorical columns\n",
        "print(\"\\nUnique Values in Categorical Columns:\")\n",
        "for col in categorical_cols:\n",
        "    print(f\"{col}: {df_cleaned[col].unique()}\")"
      ],
      "metadata": {
        "colab": {
          "base_uri": "https://localhost:8080/"
        },
        "id": "qOeJZbfnyM-a",
        "outputId": "49dd881d-c1b5-4fe5-a538-791eda123987"
      },
      "execution_count": 13,
      "outputs": [
        {
          "output_type": "stream",
          "name": "stdout",
          "text": [
            "\n",
            "Unique Values in Categorical Columns:\n",
            "Sex: ['Female', '1', NaN]\n",
            "Categories (2, object): ['1', 'Female']\n",
            "T_Stage: ['T1', 'T2', 'T3', 'T4']\n",
            "Categories (4, object): ['T1', 'T2', 'T3', 'T4']\n",
            "N_Stage: ['N1', 'N2', 'N3']\n",
            "Categories (3, object): ['N1', 'N2', 'N3']\n",
            "6th_Stage: ['IIA', 'IIIA', 'IIIC', 'IIB', 'IIIB']\n",
            "Categories (5, object): ['IIA', 'IIB', 'IIIA', 'IIIB', 'IIIC']\n",
            "Differentiated: ['Poorly differentiated', 'Moderately differentiated', 'Well differentiated', 'Undifferentiated']\n",
            "Categories (4, object): ['Moderately differentiated', 'Poorly differentiated', 'Undifferentiated',\n",
            "                         'Well differentiated']\n",
            "Grade: [3, 2, 1, 4]\n",
            "Categories (4, int64): [1, 2, 3, 4]\n",
            "A_Stage: ['Regional', 'Distant']\n",
            "Categories (2, object): ['Distant', 'Regional']\n",
            "Estrogen_Status: ['Positive', 'Negative']\n",
            "Categories (2, object): ['Negative', 'Positive']\n",
            "Progesterone_Status: ['Positive', 'Negative']\n",
            "Categories (2, object): ['Negative', 'Positive']\n",
            "Mortality_Status: ['Alive', 'Dead', 'ALIVE', 'DEAD', 'ALive', 'alive', 'dead']\n",
            "Categories (7, object): ['ALIVE', 'ALive', 'Alive', 'DEAD', 'Dead', 'alive', 'dead']\n"
          ]
        }
      ]
    },
    {
      "cell_type": "code",
      "source": [
        "# Text Cell: Handle typos or inconsistencies (example fix)\n",
        "# Assuming 'Reginol_Node_Positive' is a typo for 'Regional_Node_Positive'\n",
        "df_cleaned.rename(columns={'Reginol_Node_Positive': 'Regional_Node_Positive'}, inplace=True)"
      ],
      "metadata": {
        "id": "SPGpD0K9yPXM"
      },
      "execution_count": 14,
      "outputs": []
    },
    {
      "cell_type": "code",
      "source": [
        "# Text Cell: Data transformation from Code Reuse Session 1\n",
        "# Encode Mortality_Status for classification (Alive=0, Dead=1)\n",
        "df_cleaned['Mortality_Status'] = df_cleaned['Mortality_Status'].map({'Alive': 0, 'Dead': 1})"
      ],
      "metadata": {
        "id": "yVyKlCsayRcH"
      },
      "execution_count": 15,
      "outputs": []
    },
    {
      "cell_type": "code",
      "source": [
        "# Text Cell: Plot distribution of target variable from Code Reuse Session 1\n",
        "# Visualize Mortality_Status distribution\n",
        "plt.figure(figsize=(6, 4))\n",
        "sns.countplot(x='Mortality_Status', data=df_cleaned)\n",
        "plt.title('Distribution of Mortality Status')\n",
        "plt.xlabel('Mortality Status (0=Alive, 1=Dead)')\n",
        "plt.ylabel('Count')\n",
        "plt.show()"
      ],
      "metadata": {
        "colab": {
          "base_uri": "https://localhost:8080/",
          "height": 410
        },
        "id": "70X7KtMkyTVT",
        "outputId": "e5a2417f-7aa5-4a7a-f192-58d456c1ef6e"
      },
      "execution_count": 16,
      "outputs": [
        {
          "output_type": "display_data",
          "data": {
            "text/plain": [
              "<Figure size 600x400 with 1 Axes>"
            ],
            "image/png": "[encoded data removed]"
          },
          "metadata": {}
        }
      ]
    },
    {
      "cell_type": "code",
      "source": [
        "# Text Cell: Prepare datasets for classification and regression\n",
        "# Classification dataset: All features except Survival_Months (not a predictor for mortality status)\n",
        "classification_df = df_cleaned.drop(columns=['Survival_Months'])\n",
        "\n",
        "# Regression dataset: Only Dead patients, drop Mortality_Status (target is Survival_Months)\n",
        "regression_df = df_cleaned[df_cleaned['Mortality_Status'] == 1].drop(columns=['Mortality_Status'])"
      ],
      "metadata": {
        "id": "R8vqrI_4yVzN"
      },
      "execution_count": 17,
      "outputs": []
    },
    {
      "cell_type": "code",
      "source": [
        "# Text Cell: Save prepared datasets using code from Code Reuse Session 1\n",
        "# Save cleaned datasets for later use\n",
        "classification_df.to_csv('classification_dataset.csv', index=False)\n",
        "regression_df.to_csv('regression_dataset.csv', index=False)\n",
        "\n",
        "# Display shapes of prepared datasets\n",
        "print(\"\\nClassification Dataset Shape:\", classification_df.shape)\n",
        "print(\"Regression Dataset Shape:\", regression_df.shape)"
      ],
      "metadata": {
        "colab": {
          "base_uri": "https://localhost:8080/"
        },
        "id": "R9EeppGnyXyl",
        "outputId": "bd53b228-3c91-421b-a0f3-9a1845a3ad77"
      },
      "execution_count": 18,
      "outputs": [
        {
          "output_type": "stream",
          "name": "stdout",
          "text": [
            "\n",
            "Classification Dataset Shape: (4024, 14)\n",
            "Regression Dataset Shape: (598, 14)\n"
          ]
        }
      ]
    }
  ]
}